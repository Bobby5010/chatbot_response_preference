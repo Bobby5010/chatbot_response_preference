{
 "cells": [
  {
   "cell_type": "code",
   "execution_count": 1,
   "id": "e20115a7",
   "metadata": {
    "_cell_guid": "b1076dfc-b9ad-4769-8c92-a6c4dae69d19",
    "_uuid": "8f2839f25d086af736a60e9eeb907d3b93b6e0e5",
    "execution": {
     "iopub.execute_input": "2024-07-12T13:41:29.516811Z",
     "iopub.status.busy": "2024-07-12T13:41:29.516520Z",
     "iopub.status.idle": "2024-07-12T13:41:29.521719Z",
     "shell.execute_reply": "2024-07-12T13:41:29.520981Z"
    },
    "papermill": {
     "duration": 0.016067,
     "end_time": "2024-07-12T13:41:29.523645",
     "exception": false,
     "start_time": "2024-07-12T13:41:29.507578",
     "status": "completed"
    },
    "tags": []
   },
   "outputs": [],
   "source": [
    "# # This Python 3 environment comes with many helpful analytics libraries installed\n",
    "# # It is defined by the kaggle/python Docker image: https://github.com/kaggle/docker-python\n",
    "# # For example, here's several helpful packages to load\n",
    "\n",
    "# import numpy as np # linear algebra\n",
    "# import pandas as pd # data processing, CSV file I/O (e.g. pd.read_csv)\n",
    "\n",
    "# # Input data files are available in the read-only \"../input/\" directory\n",
    "# # For example, running this (by clicking run or pressing Shift+Enter) will list all files under the input directory\n",
    "\n",
    "# import os\n",
    "# for dirname, _, filenames in os.walk('/kaggle/input'):\n",
    "#     for filename in filenames:\n",
    "#         print(os.path.join(dirname, filename))\n",
    "\n",
    "# # You can write up to 20GB to the current directory (/kaggle/working/) that gets preserved as output when you create a version using \"Save & Run All\" \n",
    "# # You can also write temporary files to /kaggle/temp/, but they won't be saved outside of the current session"
   ]
  },
  {
   "cell_type": "code",
   "execution_count": 2,
   "id": "82721474",
   "metadata": {
    "execution": {
     "iopub.execute_input": "2024-07-12T13:41:29.539819Z",
     "iopub.status.busy": "2024-07-12T13:41:29.539355Z",
     "iopub.status.idle": "2024-07-12T13:41:30.271672Z",
     "shell.execute_reply": "2024-07-12T13:41:30.270750Z"
    },
    "papermill": {
     "duration": 0.743133,
     "end_time": "2024-07-12T13:41:30.274306",
     "exception": false,
     "start_time": "2024-07-12T13:41:29.531173",
     "status": "completed"
    },
    "tags": []
   },
   "outputs": [],
   "source": [
    "import pandas as pd\n",
    "import numpy as np"
   ]
  },
  {
   "cell_type": "code",
   "execution_count": 3,
   "id": "600b8d2c",
   "metadata": {
    "execution": {
     "iopub.execute_input": "2024-07-12T13:41:30.291043Z",
     "iopub.status.busy": "2024-07-12T13:41:30.290293Z",
     "iopub.status.idle": "2024-07-12T13:41:33.668713Z",
     "shell.execute_reply": "2024-07-12T13:41:33.667796Z"
    },
    "papermill": {
     "duration": 3.389105,
     "end_time": "2024-07-12T13:41:33.671019",
     "exception": false,
     "start_time": "2024-07-12T13:41:30.281914",
     "status": "completed"
    },
    "tags": []
   },
   "outputs": [],
   "source": [
    "train_df = pd.read_csv('/kaggle/input/lmsys-chatbot-arena/train.csv')\n",
    "test_df = pd.read_csv('/kaggle/input/lmsys-chatbot-arena/test.csv')"
   ]
  },
  {
   "cell_type": "code",
   "execution_count": 4,
   "id": "252ad751",
   "metadata": {
    "execution": {
     "iopub.execute_input": "2024-07-12T13:41:33.688067Z",
     "iopub.status.busy": "2024-07-12T13:41:33.687741Z",
     "iopub.status.idle": "2024-07-12T13:41:33.708628Z",
     "shell.execute_reply": "2024-07-12T13:41:33.707671Z"
    },
    "papermill": {
     "duration": 0.031513,
     "end_time": "2024-07-12T13:41:33.710834",
     "exception": false,
     "start_time": "2024-07-12T13:41:33.679321",
     "status": "completed"
    },
    "tags": []
   },
   "outputs": [
    {
     "data": {
      "text/html": [
       "<div>\n",
       "<style scoped>\n",
       "    .dataframe tbody tr th:only-of-type {\n",
       "        vertical-align: middle;\n",
       "    }\n",
       "\n",
       "    .dataframe tbody tr th {\n",
       "        vertical-align: top;\n",
       "    }\n",
       "\n",
       "    .dataframe thead th {\n",
       "        text-align: right;\n",
       "    }\n",
       "</style>\n",
       "<table border=\"1\" class=\"dataframe\">\n",
       "  <thead>\n",
       "    <tr style=\"text-align: right;\">\n",
       "      <th></th>\n",
       "      <th>id</th>\n",
       "      <th>model_a</th>\n",
       "      <th>model_b</th>\n",
       "      <th>prompt</th>\n",
       "      <th>response_a</th>\n",
       "      <th>response_b</th>\n",
       "      <th>winner_model_a</th>\n",
       "      <th>winner_model_b</th>\n",
       "      <th>winner_tie</th>\n",
       "    </tr>\n",
       "  </thead>\n",
       "  <tbody>\n",
       "    <tr>\n",
       "      <th>0</th>\n",
       "      <td>30192</td>\n",
       "      <td>gpt-4-1106-preview</td>\n",
       "      <td>gpt-4-0613</td>\n",
       "      <td>[\"Is it morally right to try to have a certain...</td>\n",
       "      <td>[\"The question of whether it is morally right ...</td>\n",
       "      <td>[\"As an AI, I don't have personal beliefs or o...</td>\n",
       "      <td>1</td>\n",
       "      <td>0</td>\n",
       "      <td>0</td>\n",
       "    </tr>\n",
       "    <tr>\n",
       "      <th>1</th>\n",
       "      <td>53567</td>\n",
       "      <td>koala-13b</td>\n",
       "      <td>gpt-4-0613</td>\n",
       "      <td>[\"What is the difference between marriage lice...</td>\n",
       "      <td>[\"A marriage license is a legal document that ...</td>\n",
       "      <td>[\"A marriage license and a marriage certificat...</td>\n",
       "      <td>0</td>\n",
       "      <td>1</td>\n",
       "      <td>0</td>\n",
       "    </tr>\n",
       "    <tr>\n",
       "      <th>2</th>\n",
       "      <td>65089</td>\n",
       "      <td>gpt-3.5-turbo-0613</td>\n",
       "      <td>mistral-medium</td>\n",
       "      <td>[\"explain function calling. how would you call...</td>\n",
       "      <td>[\"Function calling is the process of invoking ...</td>\n",
       "      <td>[\"Function calling is the process of invoking ...</td>\n",
       "      <td>0</td>\n",
       "      <td>0</td>\n",
       "      <td>1</td>\n",
       "    </tr>\n",
       "    <tr>\n",
       "      <th>3</th>\n",
       "      <td>96401</td>\n",
       "      <td>llama-2-13b-chat</td>\n",
       "      <td>mistral-7b-instruct</td>\n",
       "      <td>[\"How can I create a test set for a very rare ...</td>\n",
       "      <td>[\"Creating a test set for a very rare category...</td>\n",
       "      <td>[\"When building a classifier for a very rare c...</td>\n",
       "      <td>1</td>\n",
       "      <td>0</td>\n",
       "      <td>0</td>\n",
       "    </tr>\n",
       "    <tr>\n",
       "      <th>4</th>\n",
       "      <td>198779</td>\n",
       "      <td>koala-13b</td>\n",
       "      <td>gpt-3.5-turbo-0314</td>\n",
       "      <td>[\"What is the best way to travel from Tel-Aviv...</td>\n",
       "      <td>[\"The best way to travel from Tel Aviv to Jeru...</td>\n",
       "      <td>[\"The best way to travel from Tel-Aviv to Jeru...</td>\n",
       "      <td>0</td>\n",
       "      <td>1</td>\n",
       "      <td>0</td>\n",
       "    </tr>\n",
       "  </tbody>\n",
       "</table>\n",
       "</div>"
      ],
      "text/plain": [
       "       id             model_a              model_b  \\\n",
       "0   30192  gpt-4-1106-preview           gpt-4-0613   \n",
       "1   53567           koala-13b           gpt-4-0613   \n",
       "2   65089  gpt-3.5-turbo-0613       mistral-medium   \n",
       "3   96401    llama-2-13b-chat  mistral-7b-instruct   \n",
       "4  198779           koala-13b   gpt-3.5-turbo-0314   \n",
       "\n",
       "                                              prompt  \\\n",
       "0  [\"Is it morally right to try to have a certain...   \n",
       "1  [\"What is the difference between marriage lice...   \n",
       "2  [\"explain function calling. how would you call...   \n",
       "3  [\"How can I create a test set for a very rare ...   \n",
       "4  [\"What is the best way to travel from Tel-Aviv...   \n",
       "\n",
       "                                          response_a  \\\n",
       "0  [\"The question of whether it is morally right ...   \n",
       "1  [\"A marriage license is a legal document that ...   \n",
       "2  [\"Function calling is the process of invoking ...   \n",
       "3  [\"Creating a test set for a very rare category...   \n",
       "4  [\"The best way to travel from Tel Aviv to Jeru...   \n",
       "\n",
       "                                          response_b  winner_model_a  \\\n",
       "0  [\"As an AI, I don't have personal beliefs or o...               1   \n",
       "1  [\"A marriage license and a marriage certificat...               0   \n",
       "2  [\"Function calling is the process of invoking ...               0   \n",
       "3  [\"When building a classifier for a very rare c...               1   \n",
       "4  [\"The best way to travel from Tel-Aviv to Jeru...               0   \n",
       "\n",
       "   winner_model_b  winner_tie  \n",
       "0               0           0  \n",
       "1               1           0  \n",
       "2               0           1  \n",
       "3               0           0  \n",
       "4               1           0  "
      ]
     },
     "execution_count": 4,
     "metadata": {},
     "output_type": "execute_result"
    }
   ],
   "source": [
    "train_df.head()"
   ]
  },
  {
   "cell_type": "code",
   "execution_count": 5,
   "id": "49711206",
   "metadata": {
    "execution": {
     "iopub.execute_input": "2024-07-12T13:41:33.727313Z",
     "iopub.status.busy": "2024-07-12T13:41:33.727058Z",
     "iopub.status.idle": "2024-07-12T13:42:15.458636Z",
     "shell.execute_reply": "2024-07-12T13:42:15.457741Z"
    },
    "papermill": {
     "duration": 41.749962,
     "end_time": "2024-07-12T13:42:15.468879",
     "exception": false,
     "start_time": "2024-07-12T13:41:33.718917",
     "status": "completed"
    },
    "tags": []
   },
   "outputs": [
    {
     "name": "stdout",
     "output_type": "stream",
     "text": [
      "[nltk_data] Error loading stopwords: <urlopen error [Errno -3]\n",
      "[nltk_data]     Temporary failure in name resolution>\n",
      "[nltk_data] Error loading punkt: <urlopen error [Errno -3] Temporary\n",
      "[nltk_data]     failure in name resolution>\n"
     ]
    },
    {
     "data": {
      "text/plain": [
       "179"
      ]
     },
     "execution_count": 5,
     "metadata": {},
     "output_type": "execute_result"
    }
   ],
   "source": [
    "import nltk\n",
    "from nltk.corpus import stopwords\n",
    "\n",
    "nltk.download('stopwords')\n",
    "nltk.download('punkt')\n",
    "\n",
    "stopwords_ = set(stopwords.words('english'))\n",
    "len(stopwords_)"
   ]
  },
  {
   "cell_type": "code",
   "execution_count": 6,
   "id": "b0f95a8a",
   "metadata": {
    "execution": {
     "iopub.execute_input": "2024-07-12T13:42:15.486342Z",
     "iopub.status.busy": "2024-07-12T13:42:15.486046Z",
     "iopub.status.idle": "2024-07-12T13:42:15.490312Z",
     "shell.execute_reply": "2024-07-12T13:42:15.489450Z"
    },
    "papermill": {
     "duration": 0.015393,
     "end_time": "2024-07-12T13:42:15.492479",
     "exception": false,
     "start_time": "2024-07-12T13:42:15.477086",
     "status": "completed"
    },
    "tags": []
   },
   "outputs": [],
   "source": [
    "import re, string\n",
    "from sklearn.preprocessing import LabelEncoder\n",
    "from sklearn.model_selection import train_test_split"
   ]
  },
  {
   "cell_type": "code",
   "execution_count": 7,
   "id": "bcd292fb",
   "metadata": {
    "execution": {
     "iopub.execute_input": "2024-07-12T13:42:15.509660Z",
     "iopub.status.busy": "2024-07-12T13:42:15.509355Z",
     "iopub.status.idle": "2024-07-12T13:42:15.515779Z",
     "shell.execute_reply": "2024-07-12T13:42:15.514783Z"
    },
    "papermill": {
     "duration": 0.017294,
     "end_time": "2024-07-12T13:42:15.517721",
     "exception": false,
     "start_time": "2024-07-12T13:42:15.500427",
     "status": "completed"
    },
    "tags": []
   },
   "outputs": [],
   "source": [
    "def standardize(text):\n",
    "    pattern = r'\\\\u[0-9a-fA-F]{4}'\n",
    "    text = re.sub(pattern, '', text)\n",
    "    text = text.replace('\\\\n', ' ')\n",
    "    text = re.sub(r'\\d+', '', text)\n",
    "    text = ''.join(char for char in text if char not in string.punctuation).lower().strip()\n",
    "    text = ' '.join(word for word in text.split()  if word not in stopwords_)\n",
    "    return text\n",
    "\n",
    "def add_tokens(x,y):\n",
    "    text = x + ' [sep] ' + y\n",
    "    return text"
   ]
  },
  {
   "cell_type": "code",
   "execution_count": 8,
   "id": "68fcdc3f",
   "metadata": {
    "execution": {
     "iopub.execute_input": "2024-07-12T13:42:15.535446Z",
     "iopub.status.busy": "2024-07-12T13:42:15.535120Z",
     "iopub.status.idle": "2024-07-12T13:42:56.165212Z",
     "shell.execute_reply": "2024-07-12T13:42:56.164347Z"
    },
    "papermill": {
     "duration": 40.640903,
     "end_time": "2024-07-12T13:42:56.167486",
     "exception": false,
     "start_time": "2024-07-12T13:42:15.526583",
     "status": "completed"
    },
    "tags": []
   },
   "outputs": [],
   "source": [
    "def preprocess(data, train = False):\n",
    "    le = LabelEncoder()\n",
    "    ds = data.copy()\n",
    "    ds = ds.drop('id', axis = 1)\n",
    "    if train:\n",
    "        ds = ds.drop(['model_a', 'model_b'], axis = 1)\n",
    "    cols = ['prompt','response_a', 'response_b']\n",
    "    for col in cols:\n",
    "        ds[col] = ds[col].apply(standardize)\n",
    "    return ds\n",
    "\n",
    "train = preprocess(train_df, train=True)\n",
    "test = preprocess(test_df, train=False)"
   ]
  },
  {
   "cell_type": "code",
   "execution_count": 9,
   "id": "5468e626",
   "metadata": {
    "execution": {
     "iopub.execute_input": "2024-07-12T13:42:56.184699Z",
     "iopub.status.busy": "2024-07-12T13:42:56.184294Z",
     "iopub.status.idle": "2024-07-12T13:42:56.188622Z",
     "shell.execute_reply": "2024-07-12T13:42:56.187836Z"
    },
    "papermill": {
     "duration": 0.014603,
     "end_time": "2024-07-12T13:42:56.190431",
     "exception": false,
     "start_time": "2024-07-12T13:42:56.175828",
     "status": "completed"
    },
    "tags": []
   },
   "outputs": [],
   "source": [
    "target_cols = [col for col in train_df.columns if col.startswith('winner')]"
   ]
  },
  {
   "cell_type": "code",
   "execution_count": 10,
   "id": "27028487",
   "metadata": {
    "execution": {
     "iopub.execute_input": "2024-07-12T13:42:56.206973Z",
     "iopub.status.busy": "2024-07-12T13:42:56.206718Z",
     "iopub.status.idle": "2024-07-12T13:42:56.222465Z",
     "shell.execute_reply": "2024-07-12T13:42:56.221722Z"
    },
    "papermill": {
     "duration": 0.026134,
     "end_time": "2024-07-12T13:42:56.224249",
     "exception": false,
     "start_time": "2024-07-12T13:42:56.198115",
     "status": "completed"
    },
    "tags": []
   },
   "outputs": [],
   "source": [
    "x = train.drop(target_cols, axis = 1)\n",
    "y = train[target_cols]"
   ]
  },
  {
   "cell_type": "code",
   "execution_count": 11,
   "id": "7b3ff762",
   "metadata": {
    "execution": {
     "iopub.execute_input": "2024-07-12T13:42:56.241045Z",
     "iopub.status.busy": "2024-07-12T13:42:56.240780Z",
     "iopub.status.idle": "2024-07-12T13:42:56.260137Z",
     "shell.execute_reply": "2024-07-12T13:42:56.259447Z"
    },
    "papermill": {
     "duration": 0.030203,
     "end_time": "2024-07-12T13:42:56.262260",
     "exception": false,
     "start_time": "2024-07-12T13:42:56.232057",
     "status": "completed"
    },
    "tags": []
   },
   "outputs": [],
   "source": [
    "x_tr, x_val, y_tr, y_val = train_test_split(x, y, test_size = 0.2, random_state = 42) "
   ]
  },
  {
   "cell_type": "code",
   "execution_count": 12,
   "id": "c5d7d130",
   "metadata": {
    "execution": {
     "iopub.execute_input": "2024-07-12T13:42:56.279506Z",
     "iopub.status.busy": "2024-07-12T13:42:56.279035Z",
     "iopub.status.idle": "2024-07-12T13:42:56.282635Z",
     "shell.execute_reply": "2024-07-12T13:42:56.281833Z"
    },
    "papermill": {
     "duration": 0.013969,
     "end_time": "2024-07-12T13:42:56.284446",
     "exception": false,
     "start_time": "2024-07-12T13:42:56.270477",
     "status": "completed"
    },
    "tags": []
   },
   "outputs": [],
   "source": [
    "x_test = test"
   ]
  },
  {
   "cell_type": "code",
   "execution_count": 13,
   "id": "6abbf8d7",
   "metadata": {
    "execution": {
     "iopub.execute_input": "2024-07-12T13:42:56.301324Z",
     "iopub.status.busy": "2024-07-12T13:42:56.301051Z",
     "iopub.status.idle": "2024-07-12T13:42:56.514572Z",
     "shell.execute_reply": "2024-07-12T13:42:56.513731Z"
    },
    "papermill": {
     "duration": 0.224547,
     "end_time": "2024-07-12T13:42:56.516850",
     "exception": false,
     "start_time": "2024-07-12T13:42:56.292303",
     "status": "completed"
    },
    "tags": []
   },
   "outputs": [],
   "source": [
    "train_combined = train['prompt'] + ' [SEP] ' + train['response_a'] + ' [SEP] ' + train['response_b'] "
   ]
  },
  {
   "cell_type": "code",
   "execution_count": 14,
   "id": "13ccffbb",
   "metadata": {
    "execution": {
     "iopub.execute_input": "2024-07-12T13:42:56.534471Z",
     "iopub.status.busy": "2024-07-12T13:42:56.534054Z",
     "iopub.status.idle": "2024-07-12T13:43:07.895792Z",
     "shell.execute_reply": "2024-07-12T13:43:07.894952Z"
    },
    "papermill": {
     "duration": 11.37354,
     "end_time": "2024-07-12T13:43:07.898538",
     "exception": false,
     "start_time": "2024-07-12T13:42:56.524998",
     "status": "completed"
    },
    "tags": []
   },
   "outputs": [
    {
     "name": "stderr",
     "output_type": "stream",
     "text": [
      "2024-07-12 13:42:58.156425: E external/local_xla/xla/stream_executor/cuda/cuda_dnn.cc:9261] Unable to register cuDNN factory: Attempting to register factory for plugin cuDNN when one has already been registered\n",
      "2024-07-12 13:42:58.156532: E external/local_xla/xla/stream_executor/cuda/cuda_fft.cc:607] Unable to register cuFFT factory: Attempting to register factory for plugin cuFFT when one has already been registered\n",
      "2024-07-12 13:42:58.273658: E external/local_xla/xla/stream_executor/cuda/cuda_blas.cc:1515] Unable to register cuBLAS factory: Attempting to register factory for plugin cuBLAS when one has already been registered\n"
     ]
    }
   ],
   "source": [
    "import tensorflow as tf\n",
    "from tensorflow import keras\n",
    "from tensorflow.keras import layers "
   ]
  },
  {
   "cell_type": "code",
   "execution_count": 15,
   "id": "51fd7bb0",
   "metadata": {
    "execution": {
     "iopub.execute_input": "2024-07-12T13:43:07.917066Z",
     "iopub.status.busy": "2024-07-12T13:43:07.916478Z",
     "iopub.status.idle": "2024-07-12T13:43:14.863062Z",
     "shell.execute_reply": "2024-07-12T13:43:14.862066Z"
    },
    "papermill": {
     "duration": 6.959149,
     "end_time": "2024-07-12T13:43:14.866154",
     "exception": false,
     "start_time": "2024-07-12T13:43:07.907005",
     "status": "completed"
    },
    "tags": []
   },
   "outputs": [],
   "source": [
    "text_vectorization = layers.TextVectorization(\n",
    "    max_tokens = 360000,\n",
    "    output_mode = 'int',\n",
    "    output_sequence_length = 1000,\n",
    ")\n",
    "\n",
    "text_vectorization.adapt(train_combined)"
   ]
  },
  {
   "cell_type": "code",
   "execution_count": 16,
   "id": "ad72eed8",
   "metadata": {
    "execution": {
     "iopub.execute_input": "2024-07-12T13:43:14.884225Z",
     "iopub.status.busy": "2024-07-12T13:43:14.883888Z",
     "iopub.status.idle": "2024-07-12T13:43:14.889875Z",
     "shell.execute_reply": "2024-07-12T13:43:14.888935Z"
    },
    "papermill": {
     "duration": 0.017255,
     "end_time": "2024-07-12T13:43:14.891813",
     "exception": false,
     "start_time": "2024-07-12T13:43:14.874558",
     "status": "completed"
    },
    "tags": []
   },
   "outputs": [],
   "source": [
    "normalizer_xa = layers.Normalization()\n",
    "normalizer_xb = layers.Normalization()"
   ]
  },
  {
   "cell_type": "code",
   "execution_count": 17,
   "id": "ecd79979",
   "metadata": {
    "execution": {
     "iopub.execute_input": "2024-07-12T13:43:14.908864Z",
     "iopub.status.busy": "2024-07-12T13:43:14.908294Z",
     "iopub.status.idle": "2024-07-12T13:43:22.489926Z",
     "shell.execute_reply": "2024-07-12T13:43:22.488833Z"
    },
    "papermill": {
     "duration": 7.592746,
     "end_time": "2024-07-12T13:43:22.492410",
     "exception": false,
     "start_time": "2024-07-12T13:43:14.899664",
     "status": "completed"
    },
    "tags": []
   },
   "outputs": [],
   "source": [
    "train_xa = x_tr['prompt'] + ' [SEP] ' + x_tr['response_a']\n",
    "train_xb = x_tr['prompt'] + ' [SEP] ' + x_tr['response_b']\n",
    "train_xa = text_vectorization(train_xa)\n",
    "train_xb = text_vectorization(train_xb)\n",
    "\n",
    "normalizer_xa.adapt(train_xa)\n",
    "normalizer_xb.adapt(train_xb)\n",
    "\n",
    "train_y = y_tr\n",
    "train_data = {'prompt_a' : normalizer_xa(train_xa), 'prompt_b': normalizer_xb(train_xb)}\n",
    "\n",
    "train_ds = tf.data.Dataset.from_tensor_slices((train_data, train_y)).batch(32).prefetch(tf.data.AUTOTUNE)"
   ]
  },
  {
   "cell_type": "code",
   "execution_count": 18,
   "id": "a1ec419b",
   "metadata": {
    "execution": {
     "iopub.execute_input": "2024-07-12T13:43:22.510580Z",
     "iopub.status.busy": "2024-07-12T13:43:22.509895Z",
     "iopub.status.idle": "2024-07-12T13:43:23.689746Z",
     "shell.execute_reply": "2024-07-12T13:43:23.688665Z"
    },
    "papermill": {
     "duration": 1.191268,
     "end_time": "2024-07-12T13:43:23.692238",
     "exception": false,
     "start_time": "2024-07-12T13:43:22.500970",
     "status": "completed"
    },
    "tags": []
   },
   "outputs": [],
   "source": [
    "val_xa = x_val['prompt'] + ' [SEP] ' + x_val['response_a']\n",
    "val_xb = x_val['prompt'] + ' [SEP] ' + x_val['response_b']\n",
    "val_xa = text_vectorization(val_xa)\n",
    "val_xb = text_vectorization(val_xb)\n",
    "\n",
    "val_y = y_val\n",
    "val_data = {'prompt_a' : normalizer_xa(val_xa), 'prompt_b': normalizer_xb(val_xb)}\n",
    "\n",
    "validation_ds = tf.data.Dataset.from_tensor_slices((val_data, val_y)).batch(32).prefetch(tf.data.AUTOTUNE)"
   ]
  },
  {
   "cell_type": "code",
   "execution_count": 19,
   "id": "0dc9c872",
   "metadata": {
    "execution": {
     "iopub.execute_input": "2024-07-12T13:43:23.709775Z",
     "iopub.status.busy": "2024-07-12T13:43:23.709438Z",
     "iopub.status.idle": "2024-07-12T13:43:23.740556Z",
     "shell.execute_reply": "2024-07-12T13:43:23.739875Z"
    },
    "papermill": {
     "duration": 0.041855,
     "end_time": "2024-07-12T13:43:23.742416",
     "exception": false,
     "start_time": "2024-07-12T13:43:23.700561",
     "status": "completed"
    },
    "tags": []
   },
   "outputs": [],
   "source": [
    "test_xa = x_test['prompt'] + ' [SEP] ' + x_test['response_a']\n",
    "test_xb = x_test['prompt'] + ' [SEP] ' + x_test['response_b']\n",
    "test_xa = text_vectorization(test_xa)\n",
    "test_xb = text_vectorization(test_xb)\n",
    "\n",
    "test_data = {'prompt_a' : normalizer_xa(test_xa), 'prompt_b': normalizer_xb(test_xb)}\n",
    "\n",
    "test_ds = tf.data.Dataset.from_tensor_slices((test_data)).batch(32).prefetch(tf.data.AUTOTUNE)"
   ]
  },
  {
   "cell_type": "code",
   "execution_count": 20,
   "id": "059dc55c",
   "metadata": {
    "execution": {
     "iopub.execute_input": "2024-07-12T13:43:23.759220Z",
     "iopub.status.busy": "2024-07-12T13:43:23.758977Z",
     "iopub.status.idle": "2024-07-12T13:43:23.764588Z",
     "shell.execute_reply": "2024-07-12T13:43:23.763722Z"
    },
    "papermill": {
     "duration": 0.016279,
     "end_time": "2024-07-12T13:43:23.766646",
     "exception": false,
     "start_time": "2024-07-12T13:43:23.750367",
     "status": "completed"
    },
    "tags": []
   },
   "outputs": [
    {
     "data": {
      "text/plain": [
       "(<_PrefetchDataset element_spec=({'prompt_a': TensorSpec(shape=(None, 1000), dtype=tf.float32, name=None), 'prompt_b': TensorSpec(shape=(None, 1000), dtype=tf.float32, name=None)}, TensorSpec(shape=(None, 3), dtype=tf.int64, name=None))>,\n",
       " <_PrefetchDataset element_spec=({'prompt_a': TensorSpec(shape=(None, 1000), dtype=tf.float32, name=None), 'prompt_b': TensorSpec(shape=(None, 1000), dtype=tf.float32, name=None)}, TensorSpec(shape=(None, 3), dtype=tf.int64, name=None))>,\n",
       " <_PrefetchDataset element_spec={'prompt_a': TensorSpec(shape=(None, 1000), dtype=tf.float32, name=None), 'prompt_b': TensorSpec(shape=(None, 1000), dtype=tf.float32, name=None)}>)"
      ]
     },
     "execution_count": 20,
     "metadata": {},
     "output_type": "execute_result"
    }
   ],
   "source": [
    "train_ds, validation_ds, test_ds"
   ]
  },
  {
   "cell_type": "code",
   "execution_count": 21,
   "id": "d5710caa",
   "metadata": {
    "execution": {
     "iopub.execute_input": "2024-07-12T13:43:23.783212Z",
     "iopub.status.busy": "2024-07-12T13:43:23.782953Z",
     "iopub.status.idle": "2024-07-12T13:43:24.125038Z",
     "shell.execute_reply": "2024-07-12T13:43:24.123615Z"
    },
    "papermill": {
     "duration": 0.353092,
     "end_time": "2024-07-12T13:43:24.127468",
     "exception": false,
     "start_time": "2024-07-12T13:43:23.774376",
     "status": "completed"
    },
    "tags": []
   },
   "outputs": [
    {
     "name": "stdout",
     "output_type": "stream",
     "text": [
      "(32, 1000) (32, 1000)\n",
      "(32, 3)\n"
     ]
    }
   ],
   "source": [
    "for batch in train_ds.take(1):\n",
    "    features, labels = batch\n",
    "    print(features['prompt_a'].shape, features['prompt_b'].shape)\n",
    "    print(labels.shape)\n",
    "    break"
   ]
  },
  {
   "cell_type": "code",
   "execution_count": 22,
   "id": "1a0e534b",
   "metadata": {
    "execution": {
     "iopub.execute_input": "2024-07-12T13:43:24.145334Z",
     "iopub.status.busy": "2024-07-12T13:43:24.145032Z",
     "iopub.status.idle": "2024-07-12T13:43:24.155345Z",
     "shell.execute_reply": "2024-07-12T13:43:24.154428Z"
    },
    "papermill": {
     "duration": 0.021326,
     "end_time": "2024-07-12T13:43:24.157336",
     "exception": false,
     "start_time": "2024-07-12T13:43:24.136010",
     "status": "completed"
    },
    "tags": []
   },
   "outputs": [],
   "source": [
    "def get_model(learning_rate = 1e-3):\n",
    "    inputs_a = keras.Input(shape = (1000,), name = 'prompt_a')\n",
    "    inputs_b = keras.Input(shape = (1000,), name = 'prompt_b')\n",
    "    xa = layers.Dense(512, activation = 'relu')(inputs_a)\n",
    "    xb = layers.Dense(512, activation = 'relu')(inputs_b)\n",
    "    xa = layers.Dropout(0.5)(xa)\n",
    "    xb = layers.Dropout(0.5)(xb)\n",
    "    xa = layers.Dense(256, activation = 'relu')(xa)\n",
    "    xb = layers.Dense(256, activation = 'relu')(xb)\n",
    "    xa = layers.Dropout(0.2)(xa)\n",
    "    xb = layers.Dropout(0.2)(xb)\n",
    "    xa = layers.Dense(128, activation = 'relu')(xa)\n",
    "    xb = layers.Dense(128, activation = 'relu')(xb)\n",
    "    xa = layers.Dropout(0.1)(xa)\n",
    "    xb = layers.Dropout(0.1)(xb)\n",
    "    xa = layers.Dense(64, activation = 'relu')(xa)\n",
    "    xb = layers.Dense(64, activation = 'relu')(xb)\n",
    "    com = layers.Concatenate(axis = -1)([xa, xb])\n",
    "    outputs = layers.Dense(3, activation = 'softmax')(com)\n",
    "    \n",
    "    \n",
    "    model = keras.Model(inputs = [inputs_a, inputs_b], outputs = outputs)\n",
    "    model.compile(\n",
    "        optimizer= keras.optimizers.RMSprop(learning_rate = learning_rate),\n",
    "        loss = 'categorical_crossentropy'\n",
    "    )\n",
    "    \n",
    "    return model\n"
   ]
  },
  {
   "cell_type": "code",
   "execution_count": 23,
   "id": "f6a0290b",
   "metadata": {
    "execution": {
     "iopub.execute_input": "2024-07-12T13:43:24.174933Z",
     "iopub.status.busy": "2024-07-12T13:43:24.174611Z",
     "iopub.status.idle": "2024-07-12T13:46:26.333389Z",
     "shell.execute_reply": "2024-07-12T13:46:26.332598Z"
    },
    "papermill": {
     "duration": 182.17029,
     "end_time": "2024-07-12T13:46:26.335535",
     "exception": false,
     "start_time": "2024-07-12T13:43:24.165245",
     "status": "completed"
    },
    "tags": []
   },
   "outputs": [
    {
     "name": "stdout",
     "output_type": "stream",
     "text": [
      "Epoch 1/40\n",
      "\u001b[1m  62/1437\u001b[0m \u001b[37m━━━━━━━━━━━━━━━━━━━━\u001b[0m \u001b[1m3s\u001b[0m 2ms/step - loss: 1.2509"
     ]
    },
    {
     "name": "stderr",
     "output_type": "stream",
     "text": [
      "WARNING: All log messages before absl::InitializeLog() is called are written to STDERR\n",
      "I0000 00:00:1720791814.704552      74 device_compiler.h:186] Compiled cluster using XLA!  This line is logged at most once for the lifetime of the process.\n",
      "W0000 00:00:1720791814.722629      74 graph_launch.cc:671] Fallback to op-by-op mode because memset node breaks graph update\n"
     ]
    },
    {
     "name": "stdout",
     "output_type": "stream",
     "text": [
      "\u001b[1m1437/1437\u001b[0m \u001b[32m━━━━━━━━━━━━━━━━━━━━\u001b[0m\u001b[37m\u001b[0m \u001b[1m0s\u001b[0m 8ms/step - loss: 1.1955"
     ]
    },
    {
     "name": "stderr",
     "output_type": "stream",
     "text": [
      "W0000 00:00:1720791826.849998      74 graph_launch.cc:671] Fallback to op-by-op mode because memset node breaks graph update\n",
      "W0000 00:00:1720791827.378999      73 graph_launch.cc:671] Fallback to op-by-op mode because memset node breaks graph update\n"
     ]
    },
    {
     "name": "stdout",
     "output_type": "stream",
     "text": [
      "\u001b[1m1437/1437\u001b[0m \u001b[32m━━━━━━━━━━━━━━━━━━━━\u001b[0m\u001b[37m\u001b[0m \u001b[1m24s\u001b[0m 10ms/step - loss: 1.1955 - val_loss: 1.1114\n",
      "Epoch 2/40\n",
      "\u001b[1m  72/1437\u001b[0m \u001b[32m━\u001b[0m\u001b[37m━━━━━━━━━━━━━━━━━━━\u001b[0m \u001b[1m2s\u001b[0m 2ms/step - loss: 1.1451"
     ]
    },
    {
     "name": "stderr",
     "output_type": "stream",
     "text": [
      "W0000 00:00:1720791828.367282      74 graph_launch.cc:671] Fallback to op-by-op mode because memset node breaks graph update\n"
     ]
    },
    {
     "name": "stdout",
     "output_type": "stream",
     "text": [
      "\u001b[1m1437/1437\u001b[0m \u001b[32m━━━━━━━━━━━━━━━━━━━━\u001b[0m\u001b[37m\u001b[0m \u001b[1m4s\u001b[0m 3ms/step - loss: 1.1548 - val_loss: 1.1010\n",
      "Epoch 3/40\n",
      "\u001b[1m1437/1437\u001b[0m \u001b[32m━━━━━━━━━━━━━━━━━━━━\u001b[0m\u001b[37m\u001b[0m \u001b[1m4s\u001b[0m 3ms/step - loss: 1.1318 - val_loss: 1.0961\n",
      "Epoch 4/40\n",
      "\u001b[1m1437/1437\u001b[0m \u001b[32m━━━━━━━━━━━━━━━━━━━━\u001b[0m\u001b[37m\u001b[0m \u001b[1m4s\u001b[0m 3ms/step - loss: 1.1231 - val_loss: 1.0923\n",
      "Epoch 5/40\n",
      "\u001b[1m1437/1437\u001b[0m \u001b[32m━━━━━━━━━━━━━━━━━━━━\u001b[0m\u001b[37m\u001b[0m \u001b[1m4s\u001b[0m 3ms/step - loss: 1.1193 - val_loss: 1.0882\n",
      "Epoch 6/40\n",
      "\u001b[1m1437/1437\u001b[0m \u001b[32m━━━━━━━━━━━━━━━━━━━━\u001b[0m\u001b[37m\u001b[0m \u001b[1m4s\u001b[0m 3ms/step - loss: 1.1126 - val_loss: 1.0858\n",
      "Epoch 7/40\n",
      "\u001b[1m1437/1437\u001b[0m \u001b[32m━━━━━━━━━━━━━━━━━━━━\u001b[0m\u001b[37m\u001b[0m \u001b[1m5s\u001b[0m 3ms/step - loss: 1.1079 - val_loss: 1.0837\n",
      "Epoch 8/40\n",
      "\u001b[1m1437/1437\u001b[0m \u001b[32m━━━━━━━━━━━━━━━━━━━━\u001b[0m\u001b[37m\u001b[0m \u001b[1m4s\u001b[0m 3ms/step - loss: 1.1064 - val_loss: 1.0820\n",
      "Epoch 9/40\n",
      "\u001b[1m1437/1437\u001b[0m \u001b[32m━━━━━━━━━━━━━━━━━━━━\u001b[0m\u001b[37m\u001b[0m \u001b[1m4s\u001b[0m 3ms/step - loss: 1.1032 - val_loss: 1.0808\n",
      "Epoch 10/40\n",
      "\u001b[1m1437/1437\u001b[0m \u001b[32m━━━━━━━━━━━━━━━━━━━━\u001b[0m\u001b[37m\u001b[0m \u001b[1m4s\u001b[0m 3ms/step - loss: 1.0990 - val_loss: 1.0791\n",
      "Epoch 11/40\n",
      "\u001b[1m1437/1437\u001b[0m \u001b[32m━━━━━━━━━━━━━━━━━━━━\u001b[0m\u001b[37m\u001b[0m \u001b[1m4s\u001b[0m 3ms/step - loss: 1.0960 - val_loss: 1.0778\n",
      "Epoch 12/40\n",
      "\u001b[1m1437/1437\u001b[0m \u001b[32m━━━━━━━━━━━━━━━━━━━━\u001b[0m\u001b[37m\u001b[0m \u001b[1m4s\u001b[0m 3ms/step - loss: 1.0924 - val_loss: 1.0768\n",
      "Epoch 13/40\n",
      "\u001b[1m1437/1437\u001b[0m \u001b[32m━━━━━━━━━━━━━━━━━━━━\u001b[0m\u001b[37m\u001b[0m \u001b[1m4s\u001b[0m 3ms/step - loss: 1.0922 - val_loss: 1.0760\n",
      "Epoch 14/40\n",
      "\u001b[1m1437/1437\u001b[0m \u001b[32m━━━━━━━━━━━━━━━━━━━━\u001b[0m\u001b[37m\u001b[0m \u001b[1m4s\u001b[0m 3ms/step - loss: 1.0899 - val_loss: 1.0750\n",
      "Epoch 15/40\n",
      "\u001b[1m1437/1437\u001b[0m \u001b[32m━━━━━━━━━━━━━━━━━━━━\u001b[0m\u001b[37m\u001b[0m \u001b[1m5s\u001b[0m 3ms/step - loss: 1.0887 - val_loss: 1.0748\n",
      "Epoch 16/40\n",
      "\u001b[1m1437/1437\u001b[0m \u001b[32m━━━━━━━━━━━━━━━━━━━━\u001b[0m\u001b[37m\u001b[0m \u001b[1m5s\u001b[0m 3ms/step - loss: 1.0894 - val_loss: 1.0739\n",
      "Epoch 17/40\n",
      "\u001b[1m1437/1437\u001b[0m \u001b[32m━━━━━━━━━━━━━━━━━━━━\u001b[0m\u001b[37m\u001b[0m \u001b[1m4s\u001b[0m 3ms/step - loss: 1.0883 - val_loss: 1.0737\n",
      "Epoch 18/40\n",
      "\u001b[1m1437/1437\u001b[0m \u001b[32m━━━━━━━━━━━━━━━━━━━━\u001b[0m\u001b[37m\u001b[0m \u001b[1m4s\u001b[0m 3ms/step - loss: 1.0840 - val_loss: 1.0732\n",
      "Epoch 19/40\n",
      "\u001b[1m1437/1437\u001b[0m \u001b[32m━━━━━━━━━━━━━━━━━━━━\u001b[0m\u001b[37m\u001b[0m \u001b[1m4s\u001b[0m 3ms/step - loss: 1.0856 - val_loss: 1.0729\n",
      "Epoch 20/40\n",
      "\u001b[1m1437/1437\u001b[0m \u001b[32m━━━━━━━━━━━━━━━━━━━━\u001b[0m\u001b[37m\u001b[0m \u001b[1m4s\u001b[0m 3ms/step - loss: 1.0817 - val_loss: 1.0724\n",
      "Epoch 21/40\n",
      "\u001b[1m1437/1437\u001b[0m \u001b[32m━━━━━━━━━━━━━━━━━━━━\u001b[0m\u001b[37m\u001b[0m \u001b[1m4s\u001b[0m 3ms/step - loss: 1.0828 - val_loss: 1.0720\n",
      "Epoch 22/40\n",
      "\u001b[1m1437/1437\u001b[0m \u001b[32m━━━━━━━━━━━━━━━━━━━━\u001b[0m\u001b[37m\u001b[0m \u001b[1m4s\u001b[0m 3ms/step - loss: 1.0837 - val_loss: 1.0714\n",
      "Epoch 23/40\n",
      "\u001b[1m1437/1437\u001b[0m \u001b[32m━━━━━━━━━━━━━━━━━━━━\u001b[0m\u001b[37m\u001b[0m \u001b[1m4s\u001b[0m 3ms/step - loss: 1.0846 - val_loss: 1.0711\n",
      "Epoch 24/40\n",
      "\u001b[1m1437/1437\u001b[0m \u001b[32m━━━━━━━━━━━━━━━━━━━━\u001b[0m\u001b[37m\u001b[0m \u001b[1m5s\u001b[0m 3ms/step - loss: 1.0809 - val_loss: 1.0711\n",
      "Epoch 25/40\n",
      "\u001b[1m1437/1437\u001b[0m \u001b[32m━━━━━━━━━━━━━━━━━━━━\u001b[0m\u001b[37m\u001b[0m \u001b[1m4s\u001b[0m 3ms/step - loss: 1.0789 - val_loss: 1.0708\n",
      "Epoch 26/40\n",
      "\u001b[1m1437/1437\u001b[0m \u001b[32m━━━━━━━━━━━━━━━━━━━━\u001b[0m\u001b[37m\u001b[0m \u001b[1m4s\u001b[0m 3ms/step - loss: 1.0780 - val_loss: 1.0707\n",
      "Epoch 27/40\n",
      "\u001b[1m1437/1437\u001b[0m \u001b[32m━━━━━━━━━━━━━━━━━━━━\u001b[0m\u001b[37m\u001b[0m \u001b[1m4s\u001b[0m 3ms/step - loss: 1.0823 - val_loss: 1.0706\n",
      "Epoch 28/40\n",
      "\u001b[1m1437/1437\u001b[0m \u001b[32m━━━━━━━━━━━━━━━━━━━━\u001b[0m\u001b[37m\u001b[0m \u001b[1m4s\u001b[0m 3ms/step - loss: 1.0760 - val_loss: 1.0702\n",
      "Epoch 29/40\n",
      "\u001b[1m1437/1437\u001b[0m \u001b[32m━━━━━━━━━━━━━━━━━━━━\u001b[0m\u001b[37m\u001b[0m \u001b[1m4s\u001b[0m 3ms/step - loss: 1.0786 - val_loss: 1.0699\n",
      "Epoch 30/40\n",
      "\u001b[1m1437/1437\u001b[0m \u001b[32m━━━━━━━━━━━━━━━━━━━━\u001b[0m\u001b[37m\u001b[0m \u001b[1m5s\u001b[0m 3ms/step - loss: 1.0778 - val_loss: 1.0704\n",
      "Epoch 31/40\n",
      "\u001b[1m1437/1437\u001b[0m \u001b[32m━━━━━━━━━━━━━━━━━━━━\u001b[0m\u001b[37m\u001b[0m \u001b[1m4s\u001b[0m 3ms/step - loss: 1.0743 - val_loss: 1.0700\n",
      "Epoch 32/40\n",
      "\u001b[1m1437/1437\u001b[0m \u001b[32m━━━━━━━━━━━━━━━━━━━━\u001b[0m\u001b[37m\u001b[0m \u001b[1m4s\u001b[0m 3ms/step - loss: 1.0734 - val_loss: 1.0699\n",
      "Epoch 33/40\n",
      "\u001b[1m1437/1437\u001b[0m \u001b[32m━━━━━━━━━━━━━━━━━━━━\u001b[0m\u001b[37m\u001b[0m \u001b[1m4s\u001b[0m 3ms/step - loss: 1.0751 - val_loss: 1.0696\n",
      "Epoch 34/40\n",
      "\u001b[1m1437/1437\u001b[0m \u001b[32m━━━━━━━━━━━━━━━━━━━━\u001b[0m\u001b[37m\u001b[0m \u001b[1m4s\u001b[0m 3ms/step - loss: 1.0745 - val_loss: 1.0698\n",
      "Epoch 35/40\n",
      "\u001b[1m1437/1437\u001b[0m \u001b[32m━━━━━━━━━━━━━━━━━━━━\u001b[0m\u001b[37m\u001b[0m \u001b[1m4s\u001b[0m 3ms/step - loss: 1.0729 - val_loss: 1.0696\n",
      "Epoch 36/40\n",
      "\u001b[1m1437/1437\u001b[0m \u001b[32m━━━━━━━━━━━━━━━━━━━━\u001b[0m\u001b[37m\u001b[0m \u001b[1m4s\u001b[0m 3ms/step - loss: 1.0735 - val_loss: 1.0697\n",
      "Epoch 37/40\n",
      "\u001b[1m1437/1437\u001b[0m \u001b[32m━━━━━━━━━━━━━━━━━━━━\u001b[0m\u001b[37m\u001b[0m \u001b[1m4s\u001b[0m 3ms/step - loss: 1.0711 - val_loss: 1.0695\n",
      "Epoch 38/40\n",
      "\u001b[1m1437/1437\u001b[0m \u001b[32m━━━━━━━━━━━━━━━━━━━━\u001b[0m\u001b[37m\u001b[0m \u001b[1m4s\u001b[0m 3ms/step - loss: 1.0692 - val_loss: 1.0697\n",
      "Epoch 39/40\n",
      "\u001b[1m1437/1437\u001b[0m \u001b[32m━━━━━━━━━━━━━━━━━━━━\u001b[0m\u001b[37m\u001b[0m \u001b[1m5s\u001b[0m 3ms/step - loss: 1.0729 - val_loss: 1.0694\n",
      "Epoch 40/40\n",
      "\u001b[1m1437/1437\u001b[0m \u001b[32m━━━━━━━━━━━━━━━━━━━━\u001b[0m\u001b[37m\u001b[0m \u001b[1m4s\u001b[0m 3ms/step - loss: 1.0732 - val_loss: 1.0694\n"
     ]
    }
   ],
   "source": [
    "model = get_model(learning_rate = 1e-5)\n",
    "\n",
    "history = model.fit(train_ds, epochs = 40, validation_data = validation_ds)"
   ]
  },
  {
   "cell_type": "code",
   "execution_count": 24,
   "id": "ba033378",
   "metadata": {
    "execution": {
     "iopub.execute_input": "2024-07-12T13:46:26.783261Z",
     "iopub.status.busy": "2024-07-12T13:46:26.782903Z",
     "iopub.status.idle": "2024-07-12T13:46:27.315588Z",
     "shell.execute_reply": "2024-07-12T13:46:27.314610Z"
    },
    "papermill": {
     "duration": 0.760101,
     "end_time": "2024-07-12T13:46:27.317573",
     "exception": false,
     "start_time": "2024-07-12T13:46:26.557472",
     "status": "completed"
    },
    "tags": []
   },
   "outputs": [
    {
     "name": "stdout",
     "output_type": "stream",
     "text": [
      "\u001b[1m1/1\u001b[0m \u001b[32m━━━━━━━━━━━━━━━━━━━━\u001b[0m\u001b[37m\u001b[0m \u001b[1m1s\u001b[0m 523ms/step\n"
     ]
    },
    {
     "name": "stderr",
     "output_type": "stream",
     "text": [
      "W0000 00:00:1720791987.306715      74 graph_launch.cc:671] Fallback to op-by-op mode because memset node breaks graph update\n"
     ]
    },
    {
     "data": {
      "text/plain": [
       "array([[0.311548  , 0.31236297, 0.37608904],\n",
       "       [0.33616966, 0.35553536, 0.30829498],\n",
       "       [0.29367808, 0.40294108, 0.30338082]], dtype=float32)"
      ]
     },
     "execution_count": 24,
     "metadata": {},
     "output_type": "execute_result"
    }
   ],
   "source": [
    "preds = model.predict(test_ds)\n",
    "preds"
   ]
  },
  {
   "cell_type": "code",
   "execution_count": 25,
   "id": "ab147a14",
   "metadata": {
    "execution": {
     "iopub.execute_input": "2024-07-12T13:46:27.771212Z",
     "iopub.status.busy": "2024-07-12T13:46:27.770303Z",
     "iopub.status.idle": "2024-07-12T13:46:27.781000Z",
     "shell.execute_reply": "2024-07-12T13:46:27.780176Z"
    },
    "papermill": {
     "duration": 0.239493,
     "end_time": "2024-07-12T13:46:27.783018",
     "exception": false,
     "start_time": "2024-07-12T13:46:27.543525",
     "status": "completed"
    },
    "tags": []
   },
   "outputs": [],
   "source": [
    "sub = pd.DataFrame(preds, columns = target_cols)\n",
    "sub.insert(0, 'id', test_df['id'])\n",
    "sub.to_csv('submission.csv', index = False)"
   ]
  },
  {
   "cell_type": "code",
   "execution_count": null,
   "id": "19424c6c",
   "metadata": {
    "papermill": {
     "duration": 0.23127,
     "end_time": "2024-07-12T13:46:28.240277",
     "exception": false,
     "start_time": "2024-07-12T13:46:28.009007",
     "status": "completed"
    },
    "tags": []
   },
   "outputs": [],
   "source": []
  }
 ],
 "metadata": {
  "kaggle": {
   "accelerator": "nvidiaTeslaT4",
   "dataSources": [
    {
     "databundleVersionId": 8346466,
     "sourceId": 66631,
     "sourceType": "competition"
    }
   ],
   "isGpuEnabled": true,
   "isInternetEnabled": false,
   "language": "python",
   "sourceType": "notebook"
  },
  "kernelspec": {
   "display_name": "Python 3",
   "language": "python",
   "name": "python3"
  },
  "language_info": {
   "codemirror_mode": {
    "name": "ipython",
    "version": 3
   },
   "file_extension": ".py",
   "mimetype": "text/x-python",
   "name": "python",
   "nbconvert_exporter": "python",
   "pygments_lexer": "ipython3",
   "version": "3.10.13"
  },
  "papermill": {
   "default_parameters": {},
   "duration": 304.229913,
   "end_time": "2024-07-12T13:46:31.038692",
   "environment_variables": {},
   "exception": null,
   "input_path": "__notebook__.ipynb",
   "output_path": "__notebook__.ipynb",
   "parameters": {},
   "start_time": "2024-07-12T13:41:26.808779",
   "version": "2.5.0"
  }
 },
 "nbformat": 4,
 "nbformat_minor": 5
}
